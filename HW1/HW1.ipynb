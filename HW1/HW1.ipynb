{
 "cells": [
  {
   "cell_type": "markdown",
   "source": [
    "# Task1"
   ],
   "metadata": {
    "collapsed": false
   },
   "id": "ecb41a556ff03cea"
  },
  {
   "cell_type": "code",
   "execution_count": 11,
   "id": "initial_id",
   "metadata": {
    "collapsed": true,
    "ExecuteTime": {
     "end_time": "2024-04-24T03:56:38.154775300Z",
     "start_time": "2024-04-24T03:56:29.041771700Z"
    }
   },
   "outputs": [
    {
     "data": {
      "text/plain": "['대용어 모형 (대용어 모형, 대용어 모형)은 일반적인 언어 생성과 분류와 같은 자연 언어 처리를 수행할 수 있는 능력으로 유명한 언어 모형입니다.']"
     },
     "execution_count": 11,
     "metadata": {},
     "output_type": "execute_result"
    }
   ],
   "source": [
    "from transformers import MBartForConditionalGeneration, MBart50TokenizerFast\n",
    "\n",
    "model = MBartForConditionalGeneration.from_pretrained(\"SnypzZz/Llama2-13b-Language-translate\")\n",
    "\n",
    "tokenizer = MBart50TokenizerFast.from_pretrained(\"SnypzZz/Llama2-13b-Language-translate\", src_lang=\"en_XX\")\n",
    "\n",
    "\n",
    "text = \"- Translate to Korean: A large language model (LLM) is a language model notable for its ability to achieve general-purpose language generation and other natural language processing tasks such as classification.\"\n",
    "model_inputs = tokenizer(text, return_tensors=\"pt\")\n",
    "\n",
    "generated_tokens = model.generate(\n",
    "    **model_inputs,\n",
    "    forced_bos_token_id=tokenizer.lang_code_to_id[\"ko_KR\"]\n",
    ")\n",
    "tokenizer.batch_decode(generated_tokens, skip_special_tokens=True)"
   ]
  },
  {
   "cell_type": "markdown",
   "source": [
    "# Task2"
   ],
   "metadata": {
    "collapsed": false
   },
   "id": "8da763a555199b89"
  },
  {
   "cell_type": "code",
   "outputs": [
    {
     "name": "stderr",
     "output_type": "stream",
     "text": [
      "The attention mask and the pad token id were not set. As a consequence, you may observe unexpected behavior. Please pass your input's `attention_mask` to obtain reliable results.\n",
      "Setting `pad_token_id` to `eos_token_id`:50256 for open-end generation.\n"
     ]
    },
    {
     "data": {
      "text/plain": "\"In a shocking finding, scientist discovered a herd of unicorns living in a remote, previously unexplored valley, in the Andes Mountains. Even more surprising to the researchers was the fact that the unicorns spoke perfect English.\\n\\nBy learning the languages of those living near the area, as well as the languages of their closest relatives, we may have already discovered what they're all like, according to the researchers. And that's pretty much it. The scientists are currently talking in a series of labs with colleagues and, of course, the media.\\n\\nRead more:\\n\\nScientists find 'lost' dinosaur, found in Bolivia\\n\\nThe best and worst examples of human sexuality\\n\\nThe biggest surprise in the world of unicorns<|endoftext|>\""
     },
     "execution_count": 12,
     "metadata": {},
     "output_type": "execute_result"
    }
   ],
   "source": [
    "from transformers import AutoModelForCausalLM, AutoTokenizer\n",
    "\n",
    "model = AutoModelForCausalLM.from_pretrained(\"gpt2\")\n",
    "tokenizer = AutoTokenizer.from_pretrained(\"gpt2\")\n",
    "\n",
    "prompt = \"In a shocking finding, scientist discovered a herd of unicorns living in a remote, previously unexplored valley, in the Andes Mountains. Even more surprising to the researchers was the fact that the unicorns spoke perfect English.\"\n",
    "\n",
    "input_ids = tokenizer(prompt, return_tensors=\"pt\").input_ids\n",
    "\n",
    "gen_tokens = model.generate(\n",
    "    input_ids,\n",
    "    do_sample=True,\n",
    "    temperature=0.9,\n",
    "    max_length=512,\n",
    ")\n",
    "gen_text = tokenizer.batch_decode(gen_tokens)[0]\n",
    "gen_text"
   ],
   "metadata": {
    "collapsed": false,
    "ExecuteTime": {
     "end_time": "2024-04-24T03:56:41.676134500Z",
     "start_time": "2024-04-24T03:56:38.148819Z"
    }
   },
   "id": "949495b719a1de35",
   "execution_count": 12
  },
  {
   "cell_type": "markdown",
   "source": [
    "# Task3"
   ],
   "metadata": {
    "collapsed": false
   },
   "id": "98037d488f1560a7"
  },
  {
   "cell_type": "markdown",
   "source": [
    "# 3-1 lambada"
   ],
   "metadata": {
    "collapsed": false
   },
   "id": "d4d7272e664aa272"
  },
  {
   "cell_type": "code",
   "outputs": [],
   "source": [
    "import torch\n",
    "from transformers.models.opt.modeling_opt import OPTForCausalLM\n",
    "from transformers import GPT2Tokenizer, GPT2LMHeadModel\n",
    "import os\n",
    "import gc\n",
    "from torch.nn.functional import pad\n",
    "from tqdm import tqdm\n",
    "\n",
    "class Evaluator:\n",
    "    def __init__(self, dataset, tokenizer):\n",
    "        self.dataset = dataset\n",
    "        self.tokenizer = tokenizer\n",
    "\n",
    "        # tokenize the dataset\n",
    "        def tokenize_function(examples):\n",
    "            example = self.tokenizer(examples['text'])\n",
    "            return example\n",
    "\n",
    "        self.dataset = self.dataset.map(tokenize_function, batched=True)\n",
    "        self.dataset.set_format(type='torch', columns=['input_ids'])\n",
    "\n",
    "    @torch.no_grad()\n",
    "    def evaluate(self, model):\n",
    "        \n",
    "        model.eval()\n",
    "        total, hit = 0, 0\n",
    "        start = torch.cuda.Event(enable_timing=True)\n",
    "        end = torch.cuda.Event(enable_timing=True)\n",
    "        latency = 0\n",
    "        for batch in tqdm(self.dataset):\n",
    "            input_ids = batch['input_ids'].cuda().unsqueeze(0)\n",
    "            label = input_ids[:, -1]\n",
    "            pad_len = 512 - input_ids.shape[1]\n",
    "            input_ids = pad(input_ids, (0, pad_len), value=1)\n",
    "            torch.cuda.synchronize()\n",
    "            start.record()\n",
    "            outputs = model(input_ids)\n",
    "            end.record()\n",
    "            torch.cuda.synchronize()\n",
    "            latency += start.elapsed_time(end)\n",
    "            last_token_logits = outputs.logits[:, -2 - pad_len, :]\n",
    "            pred = last_token_logits.argmax(dim=-1)\n",
    "            total += label.size(0)\n",
    "            hit += (pred == label).sum().item()\n",
    "\n",
    "        acc = hit / total\n",
    "        lantecy = latency / len(self.dataset)\n",
    "        return acc, lantecy\n",
    "\n",
    "\n",
    "def print_model_size(model):\n",
    "    param_size = 0\n",
    "    for param in model.parameters():\n",
    "        param_size += param.nelement() * param.element_size()\n",
    "    buffer_size = 0\n",
    "    for buffer in model.buffers():\n",
    "        buffer_size += buffer.nelement() * buffer.element_size()\n",
    "\n",
    "    size_all_mb = (param_size + buffer_size) / 1024 ** 2\n",
    "    print('Model size: {:.3f}MB'.format(size_all_mb))"
   ],
   "metadata": {
    "collapsed": false,
    "ExecuteTime": {
     "end_time": "2024-04-24T03:56:41.686158700Z",
     "start_time": "2024-04-24T03:56:41.676134500Z"
    }
   },
   "id": "f45f3d1fde8aacfc",
   "execution_count": 14
  },
  {
   "cell_type": "code",
   "outputs": [
    {
     "name": "stdout",
     "output_type": "stream",
     "text": [
      "gpt2\n"
     ]
    },
    {
     "name": "stderr",
     "output_type": "stream",
     "text": [
      "100%|██████████| 1000/1000 [00:13<00:00, 73.47it/s]\n"
     ]
    },
    {
     "name": "stdout",
     "output_type": "stream",
     "text": [
      "gpt2-medium\n"
     ]
    },
    {
     "name": "stderr",
     "output_type": "stream",
     "text": [
      "100%|██████████| 1000/1000 [00:34<00:00, 29.34it/s]\n"
     ]
    },
    {
     "name": "stdout",
     "output_type": "stream",
     "text": [
      "gpt2-large\n"
     ]
    },
    {
     "name": "stderr",
     "output_type": "stream",
     "text": [
      "100%|██████████| 1000/1000 [01:09<00:00, 14.35it/s]\n"
     ]
    }
   ],
   "source": [
    "from datasets import load_dataset\n",
    "dataset = load_dataset('lambada', split='validation[:1000]')\n",
    "\n",
    "models_name = [\"gpt2\", \"gpt2-medium\", \"gpt2-large\"]\n",
    "\n",
    "accuracy = {}\n",
    "device = \"cuda\"\n",
    "\n",
    "for name in models_name:\n",
    "    print(name)\n",
    "    tokenizer = GPT2Tokenizer.from_pretrained(name)\n",
    "    model = GPT2LMHeadModel.from_pretrained(name)\n",
    "    model.to(\"cuda:0\")\n",
    "    evaluator = Evaluator(dataset, tokenizer)\n",
    "    acc, lantecy_smoothquant = evaluator.evaluate(model)\n",
    "    accuracy[name] = acc"
   ],
   "metadata": {
    "collapsed": false,
    "ExecuteTime": {
     "end_time": "2024-04-24T03:59:02.376676500Z",
     "start_time": "2024-04-24T03:56:41.683163400Z"
    }
   },
   "id": "38e5715f610702bc",
   "execution_count": 15
  },
  {
   "cell_type": "code",
   "outputs": [],
   "source": [
    "import matplotlib.pyplot as plt\n",
    "\n",
    "def grid_model(models, acc, title):\n",
    "    plt.figure(figsize=(10,6))\n",
    "    plt.bar(models, acc, color=['blue', 'green', 'red'])\n",
    "    plt.xlabel(\"models\")\n",
    "    plt.title(title)\n",
    "    for i, v in enumerate(models):\n",
    "        plt.text(v, acc[i], acc[i],            \n",
    "             fontsize = 9, \n",
    "             color='blue',\n",
    "             horizontalalignment='center',\n",
    "             verticalalignment='bottom')  \n",
    "\n",
    "    plt.show()\n"
   ],
   "metadata": {
    "collapsed": false,
    "ExecuteTime": {
     "end_time": "2024-04-24T03:59:02.648473900Z",
     "start_time": "2024-04-24T03:59:02.372684300Z"
    }
   },
   "id": "75e57b902f59910b",
   "execution_count": 16
  },
  {
   "cell_type": "code",
   "outputs": [
    {
     "data": {
      "text/plain": "<Figure size 1000x600 with 1 Axes>",
      "image/png": "[encoded data removed]"
     },
     "metadata": {},
     "output_type": "display_data"
    }
   ],
   "source": [
    "models = list(accuracy.keys())\n",
    "acc = list(accuracy.values())\n",
    "grid_model(models, acc, \"lambada\")"
   ],
   "metadata": {
    "collapsed": false,
    "ExecuteTime": {
     "end_time": "2024-04-24T03:59:02.721650400Z",
     "start_time": "2024-04-24T03:59:02.650474200Z"
    }
   },
   "id": "d3bbbeb4b2e0a48b",
   "execution_count": 17
  },
  {
   "cell_type": "markdown",
   "source": [
    "# 3 - 2"
   ],
   "metadata": {
    "collapsed": false
   },
   "id": "ea4952e4046f8449"
  },
  {
   "cell_type": "code",
   "outputs": [],
   "source": [
    "import torch\n",
    "from tqdm import tqdm\n",
    "    \n",
    "def evluation(encodings):\n",
    "    max_length = model.config.n_positions\n",
    "    stride = 512\n",
    "    seq_len = encodings.input_ids.size(1)\n",
    "    nlls = []\n",
    "    prev_end_loc = 0\n",
    "    for begin_loc in tqdm(range(0, seq_len, stride)):\n",
    "        end_loc = min(begin_loc + max_length, seq_len)\n",
    "        trg_len = end_loc - prev_end_loc  \n",
    "        input_ids = encodings.input_ids[:, begin_loc:end_loc].to(device)\n",
    "        target_ids = input_ids.clone()\n",
    "        target_ids[:, :-trg_len] = -100\n",
    "\n",
    "        with torch.no_grad():\n",
    "            outputs = model(input_ids, labels=target_ids)\n",
    "            neg_log_likelihood = outputs.loss * trg_len\n",
    "\n",
    "        nlls.append(neg_log_likelihood)\n",
    "\n",
    "        prev_end_loc = end_loc\n",
    "        if end_loc == seq_len:\n",
    "            break\n",
    "    ppl = torch.exp(torch.stack(nlls).sum() / end_loc)\n",
    "    return ppl.item()\n",
    "\n",
    "\n",
    "# print(evluation(encodings))"
   ],
   "metadata": {
    "collapsed": false,
    "ExecuteTime": {
     "end_time": "2024-04-24T03:59:02.731157900Z",
     "start_time": "2024-04-24T03:59:02.724650600Z"
    }
   },
   "id": "783db92faa25efad",
   "execution_count": 18
  },
  {
   "cell_type": "code",
   "outputs": [
    {
     "name": "stderr",
     "output_type": "stream",
     "text": [
      "Token indices sequence length is longer than the specified maximum sequence length for this model (297300 > 1024). Running this sequence through the model will result in indexing errors\n",
      "100%|█████████▉| 579/581 [00:19<00:00, 29.77it/s]\n",
      "Token indices sequence length is longer than the specified maximum sequence length for this model (297300 > 1024). Running this sequence through the model will result in indexing errors\n",
      "100%|█████████▉| 579/581 [00:49<00:00, 11.75it/s]\n",
      "Token indices sequence length is longer than the specified maximum sequence length for this model (297300 > 1024). Running this sequence through the model will result in indexing errors\n",
      "100%|█████████▉| 579/581 [01:40<00:00,  5.75it/s]\n"
     ]
    }
   ],
   "source": [
    "models_name = [\"gpt2\", \"gpt2-medium\", \"gpt2-large\"]\n",
    "\n",
    "accuracy = {}\n",
    "\n",
    "test = load_dataset(\"wikitext\", \"wikitext-2-v1\", split=\"test\")\n",
    "for name in models_name:\n",
    "    model = GPT2LMHeadModel.from_pretrained(name).to(device)\n",
    "    tokenizer = GPT2Tokenizer.from_pretrained(name)\n",
    "\n",
    "    encodings = tokenizer(\"\\n\\n\".join(test[\"text\"]), return_tensors=\"pt\")\n",
    "    accuracy[name] = evluation(encodings)"
   ],
   "metadata": {
    "collapsed": false,
    "ExecuteTime": {
     "end_time": "2024-04-24T04:02:08.566581600Z",
     "start_time": "2024-04-24T03:59:02.728152800Z"
    }
   },
   "id": "3a074ce1af594bbe",
   "execution_count": 19
  },
  {
   "cell_type": "code",
   "outputs": [
    {
     "data": {
      "text/plain": "<Figure size 1000x600 with 1 Axes>",
      "image/png": "[encoded data removed]"
     },
     "metadata": {},
     "output_type": "display_data"
    }
   ],
   "source": [
    "models = list(accuracy.keys())\n",
    "acc = list(accuracy.values())\n",
    "grid_model(models, acc, \"wikitext-2\")"
   ],
   "metadata": {
    "collapsed": false,
    "ExecuteTime": {
     "end_time": "2024-04-24T04:02:08.631591600Z",
     "start_time": "2024-04-24T04:02:08.566581600Z"
    }
   },
   "id": "2fb3dfabaa2de49b",
   "execution_count": 20
  },
  {
   "cell_type": "markdown",
   "source": [
    "# 3-3 wikitext-103"
   ],
   "metadata": {
    "collapsed": false
   },
   "id": "b9add56d00d5962f"
  },
  {
   "cell_type": "code",
   "outputs": [
    {
     "name": "stderr",
     "output_type": "stream",
     "text": [
      "Token indices sequence length is longer than the specified maximum sequence length for this model (286657 > 1024). Running this sequence through the model will result in indexing errors\n",
      "100%|█████████▉| 558/560 [00:18<00:00, 29.72it/s]\n",
      "Token indices sequence length is longer than the specified maximum sequence length for this model (286657 > 1024). Running this sequence through the model will result in indexing errors\n",
      "100%|█████████▉| 558/560 [00:47<00:00, 11.82it/s]\n",
      "Token indices sequence length is longer than the specified maximum sequence length for this model (286657 > 1024). Running this sequence through the model will result in indexing errors\n",
      "100%|█████████▉| 558/560 [01:36<00:00,  5.76it/s]\n"
     ]
    },
    {
     "data": {
      "text/plain": "<Figure size 1000x600 with 1 Axes>",
      "image/png": "[encoded data removed]"
     },
     "metadata": {},
     "output_type": "display_data"
    }
   ],
   "source": [
    "test = load_dataset(\"wikitext\", \"wikitext-103-v1\", split=\"test\")\n",
    "for name in models_name:\n",
    "    model = GPT2LMHeadModel.from_pretrained(name).to(device)\n",
    "    tokenizer = GPT2Tokenizer.from_pretrained(name)\n",
    "\n",
    "    encodings = tokenizer(\"\\n\\n\".join(test[\"text\"]), return_tensors=\"pt\")\n",
    "    accuracy[name] = evluation(encodings)\n",
    "models = list(accuracy.keys())\n",
    "acc = list(accuracy.values())\n",
    "grid_model(models, acc, \"wikitext-103\")"
   ],
   "metadata": {
    "collapsed": false,
    "ExecuteTime": {
     "end_time": "2024-04-24T04:05:07.064218100Z",
     "start_time": "2024-04-24T04:02:08.633592900Z"
    }
   },
   "id": "88604a1595e35d5c",
   "execution_count": 21
  }
 ],
 "metadata": {
  "kernelspec": {
   "display_name": "Python 3",
   "language": "python",
   "name": "python3"
  },
  "language_info": {
   "codemirror_mode": {
    "name": "ipython",
    "version": 2
   },
   "file_extension": ".py",
   "mimetype": "text/x-python",
   "name": "python",
   "nbconvert_exporter": "python",
   "pygments_lexer": "ipython2",
   "version": "2.7.6"
  }
 },
 "nbformat": 4,
 "nbformat_minor": 5
}
